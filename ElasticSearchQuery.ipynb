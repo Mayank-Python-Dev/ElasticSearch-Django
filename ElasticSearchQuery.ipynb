{
 "cells": [
  {
   "cell_type": "code",
   "execution_count": 88,
   "id": "c27d1e6b",
   "metadata": {},
   "outputs": [],
   "source": [
    "from core.models import Book"
   ]
  },
  {
   "cell_type": "code",
   "execution_count": 100,
   "id": "52608ee8",
   "metadata": {},
   "outputs": [
    {
     "data": {
      "text/plain": [
       "<QuerySet [<Book: W. Frank Ableson>, <Book: W. Frank Ableson>, <Book: Gojko Adzic>, <Book: Tariq Ahmed with Jon Hirschi>, <Book: Tariq Ahmed>, <Book: Satnam Alag>, <Book: Rob Allen>, <Book: Bernerd Allmon>, <Book: Andres Almiray>, <Book: Alexandre de Castro Alves>, <Book: Peter Armstrong>, <Book: Peter Armstrong>, <Book: Levi Asher>, <Book: Jamil Azher>, <Book: Kyle Baley>, <Book: Kyle Banker>, <Book: Michael J. Barlotta>, <Book: Michael Barlotta>, <Book: Michael J. Barlotta>, <Book: Jon Barrilleaux>, '...(remaining elements truncated)...']>"
      ]
     },
     "execution_count": 100,
     "metadata": {},
     "output_type": "execute_result"
    }
   ],
   "source": [
    "Book.objects.all()"
   ]
  },
  {
   "cell_type": "code",
   "execution_count": 90,
   "id": "417e5346",
   "metadata": {},
   "outputs": [],
   "source": [
    "import pandas as pd"
   ]
  },
  {
   "cell_type": "code",
   "execution_count": 91,
   "id": "7eae99e9",
   "metadata": {},
   "outputs": [],
   "source": [
    "df = pd.read_json(\"https://raw.githubusercontent.com/ozlerhakan/mongodb-json-files/master/datasets/books.json\", lines=True)"
   ]
  },
  {
   "cell_type": "code",
   "execution_count": 92,
   "id": "d181a40e",
   "metadata": {},
   "outputs": [],
   "source": [
    "df = df[['title','longDescription','authors']]"
   ]
  },
  {
   "cell_type": "code",
   "execution_count": 93,
   "id": "be60b3bf",
   "metadata": {},
   "outputs": [],
   "source": [
    "df.fillna('',inplace=True)"
   ]
  },
  {
   "cell_type": "code",
   "execution_count": 94,
   "id": "96ed5fd0",
   "metadata": {},
   "outputs": [],
   "source": [
    "df = df[df['authors'].map(len) >= 1]"
   ]
  },
  {
   "cell_type": "code",
   "execution_count": 95,
   "id": "1ea1ea96",
   "metadata": {},
   "outputs": [],
   "source": [
    "df['authors'] = df['authors'].apply(lambda x : x[0])"
   ]
  },
  {
   "cell_type": "code",
   "execution_count": 96,
   "id": "e8df5e57",
   "metadata": {},
   "outputs": [],
   "source": [
    "import json\n",
    "data = json.loads(df.to_json(orient ='index'))"
   ]
  },
  {
   "cell_type": "code",
   "execution_count": 97,
   "id": "823a4086",
   "metadata": {},
   "outputs": [],
   "source": [
    "for k,v in data.items():\n",
    "    book = Book.objects.create(\n",
    "        title = v['title'],\n",
    "        author = v['authors'],\n",
    "        description = v['longDescription']\n",
    "    )"
   ]
  },
  {
   "cell_type": "code",
   "execution_count": null,
   "id": "0ae74cec",
   "metadata": {},
   "outputs": [],
   "source": []
  }
 ],
 "metadata": {
  "kernelspec": {
   "display_name": "Django Shell-Plus",
   "language": "python",
   "name": "django_extensions"
  },
  "language_info": {
   "codemirror_mode": {
    "name": "ipython",
    "version": 3
   },
   "file_extension": ".py",
   "mimetype": "text/x-python",
   "name": "python",
   "nbconvert_exporter": "python",
   "pygments_lexer": "ipython3",
   "version": "3.8.10"
  }
 },
 "nbformat": 4,
 "nbformat_minor": 5
}
